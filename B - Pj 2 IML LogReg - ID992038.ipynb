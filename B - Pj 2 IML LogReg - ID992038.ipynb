{
 "cells": [
  {
   "cell_type": "markdown",
   "metadata": {},
   "source": [
    "1 - Load Data"
   ]
  },
  {
   "cell_type": "code",
   "execution_count": 1,
   "metadata": {},
   "outputs": [],
   "source": [
    "import pandas as pd\n",
    "import numpy as np\n",
    "from copy import deepcopy\n",
    "\n",
    "trainFeatures = pd.read_csv(open(\"train_features.tsv\", encoding=\"utf8\"), sep = '\\t')\n",
    "trainLabels = pd.read_csv(open(\"train_labels.tsv\", encoding=\"utf8\"), sep = '\\t')\n",
    "validFeatures = pd.read_csv(open(\"valid_features.tsv\", encoding=\"utf8\"), sep = '\\t')\n",
    "validLabels = pd.read_csv(open(\"valid_labels.tsv\", encoding=\"utf8\"), sep = '\\t')\n",
    "\n",
    "trainFeat = deepcopy(trainFeatures)\n",
    "trainLab = deepcopy(trainLabels)\n",
    "validFeat = deepcopy(validFeatures)\n",
    "validLab = deepcopy(validLabels)\n",
    "\n",
    "trainSet = trainFeat.merge(trainLab, on='movieId', how = 'left')\n",
    "validSet = validFeat.merge(validLab, on='movieId', how = 'left')"
   ]
  },
  {
   "cell_type": "markdown",
   "metadata": {},
   "source": [
    "2 - Clean Data"
   ]
  },
  {
   "cell_type": "code",
   "execution_count": 2,
   "metadata": {},
   "outputs": [
    {
     "name": "stderr",
     "output_type": "stream",
     "text": [
      "C:\\Users\\diego\\Anaconda3\\lib\\site-packages\\pandas\\core\\generic.py:6586: SettingWithCopyWarning: \n",
      "A value is trying to be set on a copy of a slice from a DataFrame\n",
      "\n",
      "See the caveats in the documentation: http://pandas.pydata.org/pandas-docs/stable/indexing.html#indexing-view-versus-copy\n",
      "  self._update_inplace(new_data)\n"
     ]
    }
   ],
   "source": [
    "trainSet1 = trainSet.dropna(how = 'any')\n",
    "trainSet1.reset_index(drop = True, inplace = True)\n",
    "trainSet1['year'].replace(to_replace = '2010) ', value = '2010', inplace = True)\n",
    "trainSet1['year'].replace(to_replace = '2005) ', value = '2005', inplace = True)\n",
    "trainSet1['year'].replace(to_replace = '2013) ', value = '2013', inplace = True)\n",
    "trainSet1['year'].replace(to_replace = '2011) ', value = '2011', inplace = True)\n",
    "trainSet1['year'].replace(to_replace = '2012) ', value = '2012', inplace = True)"
   ]
  },
  {
   "cell_type": "markdown",
   "metadata": {},
   "source": [
    "3 - Preprocessing"
   ]
  },
  {
   "cell_type": "markdown",
   "metadata": {},
   "source": [
    "3.1 - Vectorize words using Tfidf"
   ]
  },
  {
   "cell_type": "code",
   "execution_count": 3,
   "metadata": {},
   "outputs": [
    {
     "name": "stderr",
     "output_type": "stream",
     "text": [
      "[nltk_data] Downloading package stopwords to\n",
      "[nltk_data]     C:\\Users\\diego\\AppData\\Roaming\\nltk_data...\n",
      "[nltk_data]   Package stopwords is already up-to-date!\n"
     ]
    }
   ],
   "source": [
    "import re\n",
    "import nltk\n",
    "from nltk.corpus import stopwords\n",
    "from nltk.stem.porter import PorterStemmer\n",
    "\n",
    "nltk.download('stopwords')\n",
    "\n",
    "#validation features - tags\n",
    "\n",
    "newTagValid = []\n",
    "\n",
    "for i in range(0, 299):\n",
    "    tag = re.sub('[^a-zA-Z]', ' ', validSet['tag'][i])\n",
    "    tag = tag.lower()\n",
    "    tag = tag.split()\n",
    "    ps = PorterStemmer()\n",
    "    tag = [ps.stem(word) for word in tag if not word in set(stopwords.words('english'))]\n",
    "    tag = ' '.join(tag)\n",
    "    newTagValid.append(tag)\n",
    "    \n",
    "from sklearn.feature_extraction.text import TfidfVectorizer\n",
    "cv = TfidfVectorizer(max_features = 1500)\n",
    "tagValidMatrix = cv.fit_transform(newTagValid).toarray()\n",
    "tagValidDf = pd.DataFrame(tagValidMatrix)\n",
    "tagValidDf.columns = cv.get_feature_names()\n",
    "\n",
    "tagValidDf = tagValidDf.rename(columns = lambda x: x + \"_ta\")\n",
    "\n",
    "#validation features - titles\n",
    "\n",
    "newTitleValid = []\n",
    "\n",
    "for i in range(0, 299):\n",
    "    title = re.sub('[^a-zA-Z]', ' ', validSet['title'][i])\n",
    "    title = title.lower()\n",
    "    title = title.split()\n",
    "    ps = PorterStemmer()\n",
    "    title = [ps.stem(word) for word in title if not word in set(stopwords.words('english'))]\n",
    "    title = ' '.join(title)\n",
    "    newTitleValid.append(title)\n",
    "    \n",
    "from sklearn.feature_extraction.text import TfidfVectorizer\n",
    "cv = TfidfVectorizer(max_features = 1500)\n",
    "titleValidMatrix = cv.fit_transform(newTitleValid).toarray()\n",
    "titleValidDf = pd.DataFrame(titleValidMatrix)\n",
    "titleValidDf.columns = cv.get_feature_names()\n",
    "\n",
    "titleValidDf = titleValidDf.rename(columns = lambda x: x + \"_ti\")\n",
    "\n",
    "#train features - tags\n",
    "\n",
    "newTagTrain = []\n",
    "\n",
    "for i in range(0, 5237):\n",
    "    tag = re.sub('[^a-zA-Z]', ' ', trainSet1['tag'][i])\n",
    "    tag = tag.lower()\n",
    "    tag = tag.split()\n",
    "    ps = PorterStemmer()\n",
    "    tag = [ps.stem(word) for word in tag if not word in set(stopwords.words('english'))]\n",
    "    tag = ' '.join(tag)\n",
    "    newTagTrain.append(tag)\n",
    "    \n",
    "from sklearn.feature_extraction.text import TfidfVectorizer\n",
    "cv = TfidfVectorizer(max_features = 1500)\n",
    "tagTrainMatrix = cv.fit_transform(newTagTrain).toarray()\n",
    "tagTrainDf = pd.DataFrame(tagTrainMatrix)\n",
    "tagTrainDf.columns = cv.get_feature_names()\n",
    "\n",
    "tagTrainDf = tagTrainDf.rename(columns = lambda x: x + \"_ta\")\n",
    "\n",
    "#train features - titles\n",
    "\n",
    "newTitleTrain = []\n",
    "\n",
    "for i in range(0, 5237):\n",
    "    title = re.sub('[^a-zA-Z]', ' ', trainSet1['title'][i])\n",
    "    title = title.lower()\n",
    "    title = title.split()\n",
    "    ps = PorterStemmer()\n",
    "    title = [ps.stem(word) for word in title if not word in set(stopwords.words('english'))]\n",
    "    title = ' '.join(title)\n",
    "    newTitleTrain.append(title)\n",
    "    \n",
    "from sklearn.feature_extraction.text import TfidfVectorizer\n",
    "cv = TfidfVectorizer(max_features = 1500)\n",
    "titleTrainMatrix = cv.fit_transform(newTitleTrain).toarray()\n",
    "titleTrainDf = pd.DataFrame(titleTrainMatrix)\n",
    "titleTrainDf.columns = cv.get_feature_names()\n",
    "\n",
    "titleTrainDf = titleTrainDf.rename(columns = lambda x: x + \"_ti\")"
   ]
  },
  {
   "cell_type": "markdown",
   "metadata": {},
   "source": [
    "3.2 One hot encoder for years"
   ]
  },
  {
   "cell_type": "code",
   "execution_count": 4,
   "metadata": {},
   "outputs": [],
   "source": [
    "yearTr = trainSet1['year']\n",
    "yearAuxTr = pd.DataFrame(yearTr)\n",
    "yearsTrain = pd.get_dummies(yearAuxTr, drop_first = True)\n",
    "\n",
    "yearVa = validSet['year']\n",
    "yearAuxVa = pd.DataFrame(yearVa)\n",
    "yearAuxVa = yearAuxVa.astype(str)\n",
    "yearsValid = pd.get_dummies(yearAuxVa, drop_first = True)"
   ]
  },
  {
   "cell_type": "markdown",
   "metadata": {},
   "source": [
    "3.3 - Scale data and match columns"
   ]
  },
  {
   "cell_type": "code",
   "execution_count": 247,
   "metadata": {},
   "outputs": [],
   "source": [
    "# drop columns movieId - YTId - title - tag - year\n",
    "trainSet2 = deepcopy(trainSet1)\n",
    "trainSet2.drop(columns = ['movieId', 'title', 'YTId', 'tag', 'year'], axis = 1, inplace = True)\n",
    "\n",
    "# drop columns movieId - YTId - title - tag\n",
    "validSet1 = deepcopy(validSet)\n",
    "validSet1.drop(columns = ['movieId', 'title', 'YTId', 'tag', 'year'], axis = 1, inplace = True)"
   ]
  },
  {
   "cell_type": "code",
   "execution_count": 248,
   "metadata": {},
   "outputs": [],
   "source": [
    "# check dimensions\n",
    "y_train = trainSet2.iloc[:, 127].values\n",
    "XAuxTrain = trainSet2.iloc[:, 0:127]\n",
    "\n",
    "# check dimensions\n",
    "y_valid = validSet1.iloc[:, 127].values\n",
    "XAuxValid = validSet1.iloc[:, 0:127]\n",
    "\n",
    "# Feature Scaling - we use tfidf raw features\n",
    "from sklearn.preprocessing import StandardScaler\n",
    "\n",
    "ss = StandardScaler()\n",
    "\n",
    "XAuxTrain_yearsTrain = pd.concat([XAuxTrain, yearsTrain], axis = 1)\n",
    "XAuxValid_yearsValid = pd.concat([XAuxValid, yearsValid], axis = 1)\n",
    "XAuxTrain_yearsTrain1, XAuxValid_yearsValid1 = XAuxTrain_yearsTrain.align(XAuxValid_yearsValid, join = 'outer', axis = 1, fill_value = 0)\n",
    "\n",
    "XAuxTrain_yearsTrain_Sc = pd.DataFrame(ss.fit_transform(XAuxTrain_yearsTrain1),columns = XAuxTrain_yearsTrain1.columns)\n",
    "XAuxValid_yearsValid_Sc = pd.DataFrame(ss.transform(XAuxValid_yearsValid1),columns = XAuxValid_yearsValid1.columns)"
   ]
  },
  {
   "cell_type": "code",
   "execution_count": 249,
   "metadata": {},
   "outputs": [],
   "source": [
    "X_train = pd.concat([XAuxTrain_yearsTrain_Sc, tagTrainDf, titleTrainDf], axis = 1)"
   ]
  },
  {
   "cell_type": "code",
   "execution_count": 250,
   "metadata": {},
   "outputs": [],
   "source": [
    "X_valid = pd.concat([XAuxValid_yearsValid_Sc, tagValidDf, titleValidDf], axis = 1)"
   ]
  },
  {
   "cell_type": "code",
   "execution_count": 251,
   "metadata": {},
   "outputs": [],
   "source": [
    "X_train1, X_valid1 = X_train.align(X_valid, join = 'outer', axis = 1, fill_value = 0)"
   ]
  },
  {
   "cell_type": "code",
   "execution_count": 252,
   "metadata": {},
   "outputs": [],
   "source": [
    "# Save the values\n",
    "X_train2 = deepcopy(X_train1)\n",
    "X_valid2 = deepcopy(X_valid1)"
   ]
  },
  {
   "cell_type": "markdown",
   "metadata": {},
   "source": [
    "4 - All features"
   ]
  },
  {
   "cell_type": "markdown",
   "metadata": {},
   "source": [
    "4.1 - Feature selection (All features)"
   ]
  },
  {
   "cell_type": "code",
   "execution_count": 253,
   "metadata": {
    "collapsed": true
   },
   "outputs": [
    {
     "name": "stdout",
     "output_type": "stream",
     "text": [
      "               Specs       Score\n",
      "2105          war_ta  118.662076\n",
      "1398         noir_ta   80.839123\n",
      "547   documentari_ta   73.705935\n",
      "669            fi_ta   60.914879\n",
      "1766          sci_ta   60.914879\n",
      "73           anim_ta   54.865338\n",
      "949            ii_ta   48.883634\n",
      "2172        world_ta   48.883634\n",
      "47          alien_ta   42.873215\n",
      "1345        music_ta   42.627156\n",
      "199             avf7   38.646457\n",
      "651       fantasi_ta   38.443335\n",
      "1548        polit_ta   33.574243\n",
      "159            avf33   33.176945\n",
      "188             avf6   31.645255\n",
      "208            avf78   30.259596\n",
      "181            avf53   30.218690\n",
      "155             avf3   29.632619\n",
      "543        disney_ta   27.233223\n",
      "214            avf83   27.196010\n"
     ]
    },
    {
     "name": "stderr",
     "output_type": "stream",
     "text": [
      "C:\\Users\\diego\\Anaconda3\\lib\\site-packages\\sklearn\\feature_selection\\_univariate_selection.py:114: UserWarning: Features [  20   37   38   40   41   50   58   75   78   90   91  103  105  113\n",
      "  131  157  158  234  235  244  254  257  261  279  284  286  292  305\n",
      "  311  313  318  319  327  330  331  339  344  350  356  359  362  366\n",
      "  367  368  374  375  377  381  382  383  385  391  401  404  407  411\n",
      "  412  414  427  433  440  445  449  457  458  463  466  468  487  488\n",
      "  490  491  492  501  515  517  530  537  546  551  554  562  563  568\n",
      "  572  577  583  584  587  590  592  594  596  605  606  612  624  627\n",
      "  628  663  696  701  708  712  713  719  731  733  742  747  754  756\n",
      "  770  786  788  796  798  815  819  820  821  822  836  837  848  852\n",
      "  862  868  886  889  895  898  912  913  915  916  920  927  931  943\n",
      "  944  946  948  953  959  962  965  977  985  986  989  995 1021 1022\n",
      " 1036 1067 1069 1076 1081 1083 1100 1101 1105 1107 1108 1112 1114 1122\n",
      " 1134 1152 1167 1172 1184 1186 1189 1200 1215 1228 1241 1243 1251 1256\n",
      " 1263 1270 1282 1288 1314 1322 1325 1333 1338 1353 1370 1372 1374 1377\n",
      " 1390 1396 1415 1433 1434 1435 1436 1441 1446 1449 1453 1460 1483 1495\n",
      " 1500 1503 1508 1516 1524 1549 1554 1563 1565 1576 1583 1605 1606 1607\n",
      " 1609 1611 1621 1623 1629 1630 1638 1639 1641 1645 1648 1649 1656 1658\n",
      " 1668 1685 1717 1732 1733 1735 1740 1742 1744 1745 1761 1764 1771 1772\n",
      " 1779 1809 1811 1813 1816 1822 1824 1826 1833 1848 1856 1861 1862 1866\n",
      " 1870 1879 1890 1894 1900 1905 1910 1913 1921 1925 1929 1930 1934 1935\n",
      " 1945 1950 1951 1952 1954 1959 1960 1963 1964 1965 1966 1967 1968 1973\n",
      " 1975 1978 1984 1990 1993 1995 2002 2010 2014 2025 2027 2033 2035 2044\n",
      " 2045 2046 2049 2051 2052 2055 2056 2057 2061 2064 2071 2074 2075 2090\n",
      " 2094 2101 2108 2114 2124 2128 2131 2142 2146 2161 2182 2185 2288 2304] are constant.\n",
      "  UserWarning)\n",
      "C:\\Users\\diego\\Anaconda3\\lib\\site-packages\\sklearn\\feature_selection\\_univariate_selection.py:115: RuntimeWarning: invalid value encountered in true_divide\n",
      "  f = msb / msw\n"
     ]
    }
   ],
   "source": [
    "#anova test\n",
    "import pandas as pd\n",
    "import numpy as np\n",
    "from sklearn.feature_selection import SelectKBest\n",
    "from sklearn.feature_selection import f_classif\n",
    "\n",
    "#apply SelectKBest class to extract top 10 best features\n",
    "bestfeatures = SelectKBest(score_func = f_classif, k = 2000)\n",
    "fit = bestfeatures.fit(X_train2, y_train)\n",
    "dfscores = pd.DataFrame(fit.scores_)\n",
    "dfcolumns = pd.DataFrame(X_train2.columns)\n",
    "\n",
    "#concat two dataframes for better visualization \n",
    "featureScores = pd.concat([dfcolumns,dfscores],axis=1)\n",
    "featureScores.columns = ['Specs', 'Score']  #naming the dataframe columns\n",
    "print(featureScores.nlargest(20, 'Score'))  #print 20 best features"
   ]
  },
  {
   "cell_type": "markdown",
   "metadata": {},
   "source": [
    "4.2 - Feature sizes"
   ]
  },
  {
   "cell_type": "code",
   "execution_count": 55,
   "metadata": {
    "scrolled": false
   },
   "outputs": [
    {
     "data": {
      "text/html": [
       "<div>\n",
       "<style scoped>\n",
       "    .dataframe tbody tr th:only-of-type {\n",
       "        vertical-align: middle;\n",
       "    }\n",
       "\n",
       "    .dataframe tbody tr th {\n",
       "        vertical-align: top;\n",
       "    }\n",
       "\n",
       "    .dataframe thead th {\n",
       "        text-align: right;\n",
       "    }\n",
       "</style>\n",
       "<table border=\"1\" class=\"dataframe\">\n",
       "  <thead>\n",
       "    <tr style=\"text-align: right;\">\n",
       "      <th></th>\n",
       "      <th>train_size</th>\n",
       "      <th>accuracies</th>\n",
       "    </tr>\n",
       "  </thead>\n",
       "  <tbody>\n",
       "    <tr>\n",
       "      <th>0</th>\n",
       "      <td>50</td>\n",
       "      <td>0.324419</td>\n",
       "    </tr>\n",
       "    <tr>\n",
       "      <th>1</th>\n",
       "      <td>100</td>\n",
       "      <td>0.361268</td>\n",
       "    </tr>\n",
       "    <tr>\n",
       "      <th>2</th>\n",
       "      <td>150</td>\n",
       "      <td>0.376546</td>\n",
       "    </tr>\n",
       "    <tr>\n",
       "      <th>3</th>\n",
       "      <td>200</td>\n",
       "      <td>0.387615</td>\n",
       "    </tr>\n",
       "    <tr>\n",
       "      <th>4</th>\n",
       "      <td>250</td>\n",
       "      <td>0.379589</td>\n",
       "    </tr>\n",
       "    <tr>\n",
       "      <th>5</th>\n",
       "      <td>300</td>\n",
       "      <td>0.380165</td>\n",
       "    </tr>\n",
       "    <tr>\n",
       "      <th>6</th>\n",
       "      <td>400</td>\n",
       "      <td>0.373286</td>\n",
       "    </tr>\n",
       "    <tr>\n",
       "      <th>7</th>\n",
       "      <td>500</td>\n",
       "      <td>0.370803</td>\n",
       "    </tr>\n",
       "    <tr>\n",
       "      <th>8</th>\n",
       "      <td>750</td>\n",
       "      <td>0.350939</td>\n",
       "    </tr>\n",
       "    <tr>\n",
       "      <th>9</th>\n",
       "      <td>1000</td>\n",
       "      <td>0.337964</td>\n",
       "    </tr>\n",
       "    <tr>\n",
       "      <th>10</th>\n",
       "      <td>1500</td>\n",
       "      <td>0.325752</td>\n",
       "    </tr>\n",
       "    <tr>\n",
       "      <th>11</th>\n",
       "      <td>2000</td>\n",
       "      <td>0.319643</td>\n",
       "    </tr>\n",
       "  </tbody>\n",
       "</table>\n",
       "</div>"
      ],
      "text/plain": [
       "    train_size  accuracies\n",
       "0           50    0.324419\n",
       "1          100    0.361268\n",
       "2          150    0.376546\n",
       "3          200    0.387615\n",
       "4          250    0.379589\n",
       "5          300    0.380165\n",
       "6          400    0.373286\n",
       "7          500    0.370803\n",
       "8          750    0.350939\n",
       "9         1000    0.337964\n",
       "10        1500    0.325752\n",
       "11        2000    0.319643"
      ]
     },
     "execution_count": 55,
     "metadata": {},
     "output_type": "execute_result"
    }
   ],
   "source": [
    "from sklearn.linear_model import LogisticRegression\n",
    "from sklearn.model_selection import cross_val_score\n",
    "from sklearn import metrics\n",
    "\n",
    "features = [50, 100, 150, 200, 250, 300, 400, 500, 750, 1000, 1500, 2000]\n",
    "acc_mean = []\n",
    "\n",
    "for i in features:\n",
    "    bestFeatures = featureScores.nlargest(i,'Score')\n",
    "    X_train3 = X_train2[bestFeatures['Specs']]\n",
    "    X_valid3 = X_valid2[bestFeatures['Specs']]\n",
    "    # Fitting Logistic Regression to the Training set\n",
    "    c = LogisticRegression(multi_class = 'multinomial', max_iter = 100000, solver = 'newton-cg') # class_weight = 'balanced', solver = 'newton-cg'\n",
    "    c.fit(X_train3, y_train)\n",
    "    # Predicting the Test set results\n",
    "    y_pred = c.predict(X_valid3)\n",
    "    accuracies = cross_val_score(estimator = c, X = X_train3, y = y_train, cv = 10)\n",
    "    accuracy = accuracies.mean()\n",
    "    acc_mean.append(accuracy)\n",
    "\n",
    "modelDict = {'features':[50, 100, 150, 200, 250, 300, 400, 500, 750, 1000, 1500, 2000], 'accuracies': acc_mean} \n",
    "modelAcc = pd.DataFrame(modelDict)\n",
    "modelAcc"
   ]
  },
  {
   "cell_type": "markdown",
   "metadata": {},
   "source": [
    "4.3 - Learning curve (All features)"
   ]
  },
  {
   "cell_type": "code",
   "execution_count": 254,
   "metadata": {},
   "outputs": [],
   "source": [
    "bestFeatures = featureScores.nlargest(200,'Score')\n",
    "X_train3 = X_train2[bestFeatures['Specs']]\n",
    "X_valid3 = X_valid2[bestFeatures['Specs']]"
   ]
  },
  {
   "cell_type": "code",
   "execution_count": 180,
   "metadata": {},
   "outputs": [
    {
     "data": {
      "image/png": "[encoded data removed]",
      "text/plain": [
       "<Figure size 432x288 with 1 Axes>"
      ]
     },
     "metadata": {
      "needs_background": "light"
     },
     "output_type": "display_data"
    }
   ],
   "source": [
    "%matplotlib inline\n",
    "from sklearn.model_selection import learning_curve\n",
    "import matplotlib.pyplot as plt\n",
    "from sklearn.model_selection import StratifiedKFold\n",
    "from sklearn.model_selection import train_test_split\n",
    "import numpy as np\n",
    "\n",
    "c = LogisticRegression(multi_class = 'multinomial', max_iter = 100000, solver = 'newton-cg')\n",
    "train_sizes, train_scores, valid_scores= \\\n",
    "        learning_curve(c, X_train3, y_train, scoring='accuracy',cv=StratifiedKFold(10),\n",
    "                       train_sizes=np.linspace(.1, 1.0, 5))\n",
    "plt.figure()\n",
    "plt.xlabel(\"training size\")\n",
    "plt.ylabel(\"accuracy\")\n",
    "plt.plot(train_sizes,  np.mean(train_scores, axis=1), 'o-', color=\"r\",\n",
    "                 label=\"Training score\")\n",
    "plt.plot(train_sizes,  np.mean(valid_scores, axis=1), 'o-', color=\"g\",\n",
    "                 label=\"Cross-validation score\")\n",
    "plt.legend(loc=\"best\")\n",
    "plt.show()"
   ]
  },
  {
   "cell_type": "code",
   "execution_count": 181,
   "metadata": {},
   "outputs": [
    {
     "data": {
      "text/plain": [
       "array([[0.80467091, 0.76433121, 0.76433121, 0.76433121, 0.76433121,\n",
       "        0.76433121, 0.76433121, 0.76433121, 0.76433121, 0.76433121],\n",
       "       [0.56368387, 0.54866101, 0.57413455, 0.58523841, 0.59242325,\n",
       "        0.59046375, 0.59046375, 0.59046375, 0.59046375, 0.59046375],\n",
       "       [0.5150463 , 0.50964506, 0.5158179 , 0.51890432, 0.51774691,\n",
       "        0.52083333, 0.52469136, 0.52314815, 0.52314815, 0.52314815],\n",
       "       [0.4939759 , 0.48685652, 0.48932092, 0.49644031, 0.49069003,\n",
       "        0.49534502, 0.49671413, 0.50136911, 0.50219058, 0.50219058],\n",
       "       [0.47825164, 0.47528114, 0.47952472, 0.47740293, 0.47846382,\n",
       "        0.47846382, 0.47549332, 0.48164651, 0.48822406, 0.48652663]])"
      ]
     },
     "execution_count": 181,
     "metadata": {},
     "output_type": "execute_result"
    }
   ],
   "source": [
    "train_scores"
   ]
  },
  {
   "cell_type": "code",
   "execution_count": 235,
   "metadata": {},
   "outputs": [
    {
     "data": {
      "text/plain": [
       "0.47992785911309144"
      ]
     },
     "execution_count": 235,
     "metadata": {},
     "output_type": "execute_result"
    }
   ],
   "source": [
    "train_scores[4].mean()"
   ]
  },
  {
   "cell_type": "code",
   "execution_count": 183,
   "metadata": {},
   "outputs": [
    {
     "data": {
      "text/plain": [
       "array([[0.20419847, 0.21564885, 0.19847328, 0.15839695, 0.17557252,\n",
       "        0.19465649, 0.20801527, 0.208413  , 0.22179732, 0.208413  ],\n",
       "       [0.29389313, 0.36832061, 0.31870229, 0.29580153, 0.30534351,\n",
       "        0.29580153, 0.30916031, 0.31357553, 0.31357553, 0.30592734],\n",
       "       [0.36832061, 0.3740458 , 0.36832061, 0.35305344, 0.33778626,\n",
       "        0.36832061, 0.3759542 , 0.33843212, 0.3499044 , 0.34416826],\n",
       "       [0.38931298, 0.41030534, 0.36641221, 0.3778626 , 0.36641221,\n",
       "        0.3740458 , 0.39694656, 0.36711281, 0.35181644, 0.36520076],\n",
       "       [0.40458015, 0.41030534, 0.38167939, 0.39122137, 0.3740458 ,\n",
       "        0.38740458, 0.42366412, 0.38240918, 0.36520076, 0.35564054]])"
      ]
     },
     "execution_count": 183,
     "metadata": {},
     "output_type": "execute_result"
    }
   ],
   "source": [
    "valid_scores"
   ]
  },
  {
   "cell_type": "code",
   "execution_count": 236,
   "metadata": {},
   "outputs": [
    {
     "data": {
      "text/plain": [
       "0.3876151241370251"
      ]
     },
     "execution_count": 236,
     "metadata": {},
     "output_type": "execute_result"
    }
   ],
   "source": [
    "valid_scores[4].mean()"
   ]
  },
  {
   "cell_type": "markdown",
   "metadata": {},
   "source": [
    "4.4 - Validation (All features)"
   ]
  },
  {
   "cell_type": "code",
   "execution_count": 256,
   "metadata": {},
   "outputs": [
    {
     "name": "stdout",
     "output_type": "stream",
     "text": [
      "              precision    recall  f1-score   support\n",
      "\n",
      "      Action     0.0000    0.0000    0.0000         6\n",
      "   Adventure     0.0000    0.0000    0.0000         2\n",
      "   Animation     0.5000    0.3333    0.4000         3\n",
      "    Children     1.0000    0.3333    0.5000         3\n",
      "      Comedy     0.4091    0.4737    0.4390        38\n",
      "       Crime     0.0000    0.0000    0.0000         5\n",
      " Documentary     0.5714    0.6667    0.6154        18\n",
      "       Drama     0.3600    0.6279    0.4576        43\n",
      "     Fantasy     0.6667    0.3333    0.4444        18\n",
      "   Film_Noir     0.0000    0.0000    0.0000         4\n",
      "      Horror     0.3846    0.6250    0.4762         8\n",
      "     Musical     0.2000    0.1000    0.1333        10\n",
      "     Mystery     0.0000    0.0000    0.0000        18\n",
      "     Romance     0.3077    0.3137    0.3107        51\n",
      "      Sci_Fi     0.4762    0.6250    0.5405        16\n",
      "    Thriller     0.3846    0.5357    0.4478        28\n",
      "         War     0.6667    0.2857    0.4000        21\n",
      "     Western     0.0000    0.0000    0.0000         7\n",
      "\n",
      "    accuracy                         0.3946       299\n",
      "   macro avg     0.3293    0.2919    0.2869       299\n",
      "weighted avg     0.3711    0.3946    0.3636       299\n",
      "\n"
     ]
    },
    {
     "name": "stderr",
     "output_type": "stream",
     "text": [
      "C:\\Users\\diego\\Anaconda3\\lib\\site-packages\\sklearn\\metrics\\_classification.py:1272: UndefinedMetricWarning: Precision and F-score are ill-defined and being set to 0.0 in labels with no predicted samples. Use `zero_division` parameter to control this behavior.\n",
      "  _warn_prf(average, modifier, msg_start, len(result))\n"
     ]
    }
   ],
   "source": [
    "from sklearn.linear_model import LogisticRegression\n",
    "from sklearn import metrics\n",
    "\n",
    "c = LogisticRegression(multi_class = 'multinomial', max_iter = 100000, solver = 'newton-cg') # class_weight = 'balanced', solver = 'newton-cg'\n",
    "c.fit(X_train3, y_train)\n",
    "y_pred = c.predict(X_valid3)\n",
    "\n",
    "print(metrics.classification_report(y_valid, y_pred, digits=4))"
   ]
  },
  {
   "cell_type": "markdown",
   "metadata": {},
   "source": [
    "5 - Metadata features only"
   ]
  },
  {
   "cell_type": "markdown",
   "metadata": {},
   "source": [
    "5.1 - Feature selection (Metadata features only)"
   ]
  },
  {
   "cell_type": "code",
   "execution_count": 257,
   "metadata": {},
   "outputs": [],
   "source": [
    "# drop columns movieId - YTId - title - tag - year\n",
    "trainSet2 = deepcopy(trainSet1)\n",
    "trainSet2.drop(columns = ['movieId', 'title', 'YTId', 'tag', 'year'], axis = 1, inplace = True)\n",
    "\n",
    "# drop columns movieId - YTId - title - tag\n",
    "validSet1 = deepcopy(validSet)\n",
    "validSet1.drop(columns = ['movieId', 'title', 'YTId', 'tag', 'year'], axis = 1, inplace = True)"
   ]
  },
  {
   "cell_type": "code",
   "execution_count": 258,
   "metadata": {},
   "outputs": [],
   "source": [
    "# check dimensions\n",
    "y_train = trainSet2.iloc[:, 127].values\n",
    "\n",
    "# check dimensions\n",
    "y_valid = validSet1.iloc[:, 127].values\n",
    "\n",
    "yearsTrain1, yearsValid1 = yearsTrain.align(yearsValid, join = 'outer', axis = 1, fill_value = 0)"
   ]
  },
  {
   "cell_type": "code",
   "execution_count": 259,
   "metadata": {},
   "outputs": [],
   "source": [
    "X_train = pd.concat([yearsTrain1, tagTrainDf, titleTrainDf], axis = 1)"
   ]
  },
  {
   "cell_type": "code",
   "execution_count": 260,
   "metadata": {},
   "outputs": [],
   "source": [
    "X_valid = pd.concat([yearsValid1, tagValidDf, titleValidDf], axis = 1)"
   ]
  },
  {
   "cell_type": "code",
   "execution_count": 261,
   "metadata": {},
   "outputs": [],
   "source": [
    "X_train1, X_valid1 = X_train.align(X_valid, join = 'outer', axis = 1, fill_value = 0)"
   ]
  },
  {
   "cell_type": "code",
   "execution_count": 262,
   "metadata": {},
   "outputs": [],
   "source": [
    "# Save the values\n",
    "X_train2 = deepcopy(X_train1)\n",
    "X_valid2 = deepcopy(X_valid1)"
   ]
  },
  {
   "cell_type": "code",
   "execution_count": 263,
   "metadata": {
    "collapsed": true
   },
   "outputs": [
    {
     "name": "stdout",
     "output_type": "stream",
     "text": [
      "               Specs       Score\n",
      "1978          war_ta  118.662076\n",
      "1271         noir_ta   80.839123\n",
      "440   documentari_ta   73.705935\n",
      "562            fi_ta   60.914879\n",
      "1639          sci_ta   60.914879\n",
      "73           anim_ta   54.865338\n",
      "842            ii_ta   48.883634\n",
      "2045        world_ta   48.883634\n",
      "47          alien_ta   42.873215\n",
      "1218        music_ta   42.627156\n",
      "544       fantasi_ta   38.443335\n",
      "1421        polit_ta   33.574243\n",
      "436        disney_ta   27.233223\n",
      "1578       romanc_ta   25.078855\n",
      "1765        space_ta   24.064837\n",
      "367         crime_ta   22.269269\n",
      "810        horror_ta   21.800860\n",
      "1865     thriller_ta   21.565193\n",
      "631         fritz_ti   21.336457\n",
      "468      dystopia_ta   18.557774\n"
     ]
    },
    {
     "name": "stderr",
     "output_type": "stream",
     "text": [
      "C:\\Users\\diego\\Anaconda3\\lib\\site-packages\\sklearn\\feature_selection\\_univariate_selection.py:114: UserWarning: Features [  20   37   38   40   41   50   58   75   78   90   91  103  105  113\n",
      "  127  128  137  147  150  154  172  177  179  185  198  204  206  211\n",
      "  212  220  223  224  232  237  243  249  252  255  259  260  261  267\n",
      "  268  270  274  275  276  278  284  294  297  300  304  305  307  320\n",
      "  326  333  338  342  350  351  356  359  361  380  381  383  384  385\n",
      "  394  408  410  423  430  439  444  447  455  456  461  465  470  476\n",
      "  477  480  483  485  487  489  498  499  505  517  520  521  556  589\n",
      "  594  601  605  606  612  624  626  635  640  647  649  663  679  681\n",
      "  689  691  708  712  713  714  715  729  730  741  745  755  761  779\n",
      "  782  788  791  805  806  808  809  813  820  824  836  837  839  841\n",
      "  846  852  855  858  870  878  879  882  888  894  895  909  940  942\n",
      "  949  954  956  973  974  978  980  981  985  987  995 1007 1025 1040\n",
      " 1045 1057 1059 1062 1073 1088 1101 1114 1116 1124 1129 1136 1143 1155\n",
      " 1161 1187 1195 1198 1206 1211 1226 1243 1245 1247 1250 1263 1269 1288\n",
      " 1306 1307 1308 1309 1314 1319 1322 1326 1333 1356 1368 1373 1376 1381\n",
      " 1389 1397 1422 1427 1436 1438 1449 1456 1478 1479 1480 1482 1484 1494\n",
      " 1496 1502 1503 1511 1512 1514 1518 1521 1522 1529 1531 1541 1558 1590\n",
      " 1605 1606 1608 1613 1615 1617 1618 1634 1637 1644 1645 1652 1682 1684\n",
      " 1686 1689 1695 1697 1699 1706 1721 1729 1734 1735 1739 1743 1752 1763\n",
      " 1767 1773 1778 1783 1786 1794 1798 1802 1803 1807 1808 1818 1823 1824\n",
      " 1825 1827 1832 1833 1836 1837 1838 1839 1840 1841 1846 1848 1851 1857\n",
      " 1863 1866 1868 1875 1883 1887 1898 1900 1906 1908 1917 1918 1919 1922\n",
      " 1924 1925 1928 1929 1930 1934 1937 1944 1947 1948 1963 1967 1974 1981\n",
      " 1987 1997 2001 2004 2015 2019 2034 2055 2058 2161 2177] are constant.\n",
      "  UserWarning)\n",
      "C:\\Users\\diego\\Anaconda3\\lib\\site-packages\\sklearn\\feature_selection\\_univariate_selection.py:115: RuntimeWarning: invalid value encountered in true_divide\n",
      "  f = msb / msw\n"
     ]
    }
   ],
   "source": [
    "#anova test\n",
    "import pandas as pd\n",
    "import numpy as np\n",
    "from sklearn.feature_selection import SelectKBest\n",
    "from sklearn.feature_selection import f_classif\n",
    "\n",
    "#apply SelectKBest class to extract top 10 best features\n",
    "bestfeatures = SelectKBest(score_func = f_classif, k = 2000)\n",
    "fit = bestfeatures.fit(X_train2, y_train)\n",
    "dfscores = pd.DataFrame(fit.scores_)\n",
    "dfcolumns = pd.DataFrame(X_train2.columns)\n",
    "\n",
    "#concat two dataframes for better visualization \n",
    "featureScores = pd.concat([dfcolumns,dfscores],axis=1)\n",
    "featureScores.columns = ['Specs', 'Score']  #naming the dataframe columns\n",
    "print(featureScores.nlargest(20, 'Score'))  #print 20 best features"
   ]
  },
  {
   "cell_type": "markdown",
   "metadata": {},
   "source": [
    "5.2 - Learning Curve (Metadata features only)"
   ]
  },
  {
   "cell_type": "code",
   "execution_count": 264,
   "metadata": {},
   "outputs": [],
   "source": [
    "bestFeatures = featureScores.nlargest(200,'Score')\n",
    "X_train3 = X_train2[bestFeatures['Specs']]\n",
    "X_valid3 = X_valid2[bestFeatures['Specs']]"
   ]
  },
  {
   "cell_type": "code",
   "execution_count": 200,
   "metadata": {},
   "outputs": [
    {
     "data": {
      "image/png": "[encoded data removed]",
      "text/plain": [
       "<Figure size 432x288 with 1 Axes>"
      ]
     },
     "metadata": {
      "needs_background": "light"
     },
     "output_type": "display_data"
    }
   ],
   "source": [
    "%matplotlib inline\n",
    "from sklearn.model_selection import learning_curve\n",
    "import matplotlib.pyplot as plt\n",
    "from sklearn.model_selection import StratifiedKFold\n",
    "from sklearn.model_selection import train_test_split\n",
    "import numpy as np\n",
    "\n",
    "c = LogisticRegression(multi_class = 'multinomial', max_iter = 100000, solver = 'newton-cg')\n",
    "train_sizes2, train_scores2, valid_scores2= \\\n",
    "        learning_curve(c, X_train3, y_train, scoring='accuracy',cv=StratifiedKFold(10),\n",
    "                       train_sizes=np.linspace(.1, 1.0, 5))\n",
    "plt.figure()\n",
    "plt.xlabel(\"training size\")\n",
    "plt.ylabel(\"accuracy\")\n",
    "plt.plot(train_sizes2,  np.mean(train_scores2, axis=1), 'o-', color=\"r\",\n",
    "                 label=\"Training score\")\n",
    "plt.plot(train_sizes2,  np.mean(valid_scores2, axis=1), 'o-', color=\"g\",\n",
    "                 label=\"Cross-validation score\")\n",
    "plt.legend(loc=\"best\")\n",
    "plt.show()"
   ]
  },
  {
   "cell_type": "code",
   "execution_count": 201,
   "metadata": {},
   "outputs": [
    {
     "data": {
      "text/plain": [
       "array([[0.56050955, 0.52441614, 0.50955414, 0.50955414, 0.50955414,\n",
       "        0.50955414, 0.50955414, 0.50955414, 0.50955414, 0.50955414],\n",
       "       [0.48465056, 0.47093403, 0.49836708, 0.51469628, 0.50881777,\n",
       "        0.51208361, 0.51208361, 0.51208361, 0.51208361, 0.51208361],\n",
       "       [0.4533179 , 0.44945988, 0.45794753, 0.46412037, 0.46990741,\n",
       "        0.46682099, 0.47299383, 0.47337963, 0.47337963, 0.47337963],\n",
       "       [0.44112815, 0.43948521, 0.44523549, 0.45208105, 0.45427163,\n",
       "        0.45016429, 0.45317634, 0.4611172 , 0.45618839, 0.45618839],\n",
       "       [0.43369404, 0.43496711, 0.43878634, 0.44302992, 0.44791004,\n",
       "        0.44302992, 0.44027159, 0.44918311, 0.44387863, 0.45045619]])"
      ]
     },
     "execution_count": 201,
     "metadata": {},
     "output_type": "execute_result"
    }
   ],
   "source": [
    "train_scores2"
   ]
  },
  {
   "cell_type": "code",
   "execution_count": 239,
   "metadata": {},
   "outputs": [
    {
     "data": {
      "text/plain": [
       "0.44252068746021644"
      ]
     },
     "execution_count": 239,
     "metadata": {},
     "output_type": "execute_result"
    }
   ],
   "source": [
    "train_scores2[4].mean()"
   ]
  },
  {
   "cell_type": "code",
   "execution_count": 203,
   "metadata": {},
   "outputs": [
    {
     "data": {
      "text/plain": [
       "array([[0.35114504, 0.36450382, 0.28816794, 0.28625954, 0.26717557,\n",
       "        0.28244275, 0.28244275, 0.28871893, 0.32695985, 0.3040153 ],\n",
       "       [0.41412214, 0.41793893, 0.35877863, 0.34923664, 0.33969466,\n",
       "        0.35687023, 0.34923664, 0.33843212, 0.33652008, 0.31739962],\n",
       "       [0.43129771, 0.42748092, 0.38549618, 0.37977099, 0.34160305,\n",
       "        0.37022901, 0.37977099, 0.35946463, 0.36137667, 0.33269598],\n",
       "       [0.45038168, 0.4351145 , 0.41030534, 0.39122137, 0.35305344,\n",
       "        0.39122137, 0.39312977, 0.31357553, 0.37858509, 0.35181644],\n",
       "       [0.44465649, 0.44083969, 0.41793893, 0.39503817, 0.36068702,\n",
       "        0.39122137, 0.41030534, 0.35755258, 0.36902486, 0.33078394]])"
      ]
     },
     "execution_count": 203,
     "metadata": {},
     "output_type": "execute_result"
    }
   ],
   "source": [
    "valid_scores2"
   ]
  },
  {
   "cell_type": "code",
   "execution_count": 240,
   "metadata": {},
   "outputs": [
    {
     "data": {
      "text/plain": [
       "0.3918048399573803"
      ]
     },
     "execution_count": 240,
     "metadata": {},
     "output_type": "execute_result"
    }
   ],
   "source": [
    "valid_scores2[4].mean()"
   ]
  },
  {
   "cell_type": "markdown",
   "metadata": {},
   "source": [
    "5.3 - Validation (Metadata features only)"
   ]
  },
  {
   "cell_type": "code",
   "execution_count": 266,
   "metadata": {},
   "outputs": [
    {
     "name": "stdout",
     "output_type": "stream",
     "text": [
      "              precision    recall  f1-score   support\n",
      "\n",
      "      Action     0.0000    0.0000    0.0000         6\n",
      "   Adventure     0.0000    0.0000    0.0000         2\n",
      "   Animation     0.0000    0.0000    0.0000         3\n",
      "    Children     0.0000    0.0000    0.0000         3\n",
      "      Comedy     0.4390    0.4737    0.4557        38\n",
      "       Crime     0.0000    0.0000    0.0000         5\n",
      " Documentary     0.6154    0.4444    0.5161        18\n",
      "       Drama     0.2857    0.6512    0.3972        43\n",
      "     Fantasy     0.4286    0.1667    0.2400        18\n",
      "   Film_Noir     1.0000    0.2500    0.4000         4\n",
      "      Horror     0.4444    0.5000    0.4706         8\n",
      "     Musical     0.2000    0.1000    0.1333        10\n",
      "     Mystery     1.0000    0.0556    0.1053        18\n",
      "     Romance     0.2951    0.3529    0.3214        51\n",
      "      Sci_Fi     0.5455    0.7500    0.6316        16\n",
      "    Thriller     0.4231    0.3929    0.4074        28\n",
      "         War     0.7273    0.3810    0.5000        21\n",
      "     Western     0.0000    0.0000    0.0000         7\n",
      "\n",
      "    accuracy                         0.3779       299\n",
      "   macro avg     0.3558    0.2510    0.2544       299\n",
      "weighted avg     0.4221    0.3779    0.3512       299\n",
      "\n"
     ]
    },
    {
     "name": "stderr",
     "output_type": "stream",
     "text": [
      "C:\\Users\\diego\\Anaconda3\\lib\\site-packages\\sklearn\\metrics\\_classification.py:1272: UndefinedMetricWarning: Precision and F-score are ill-defined and being set to 0.0 in labels with no predicted samples. Use `zero_division` parameter to control this behavior.\n",
      "  _warn_prf(average, modifier, msg_start, len(result))\n"
     ]
    }
   ],
   "source": [
    "from sklearn.linear_model import LogisticRegression\n",
    "from sklearn import metrics\n",
    "\n",
    "c = LogisticRegression(multi_class = 'multinomial', max_iter = 100000, solver = 'newton-cg') # class_weight = 'balanced', solver = 'newton-cg'\n",
    "c.fit(X_train3, y_train)\n",
    "y_pred = c.predict(X_valid3)\n",
    "\n",
    "print(metrics.classification_report(y_valid, y_pred, digits=4))"
   ]
  },
  {
   "cell_type": "markdown",
   "metadata": {},
   "source": [
    "6 - Audio/Visual features only"
   ]
  },
  {
   "cell_type": "markdown",
   "metadata": {},
   "source": [
    "6.1 - Feature selection (Audio/Visual features only)"
   ]
  },
  {
   "cell_type": "code",
   "execution_count": 267,
   "metadata": {},
   "outputs": [],
   "source": [
    "# drop columns movieId - YTId - title - tag - year\n",
    "trainSet2 = deepcopy(trainSet1)\n",
    "trainSet2.drop(columns = ['movieId', 'title', 'YTId', 'tag', 'year'], axis = 1, inplace = True)\n",
    "\n",
    "# drop columns movieId - YTId - title - tag\n",
    "validSet1 = deepcopy(validSet)\n",
    "validSet1.drop(columns = ['movieId', 'title', 'YTId', 'tag', 'year'], axis = 1, inplace = True)"
   ]
  },
  {
   "cell_type": "code",
   "execution_count": 268,
   "metadata": {},
   "outputs": [],
   "source": [
    "# check dimensions\n",
    "y_train = trainSet2.iloc[:, 127].values\n",
    "XAuxTrain = trainSet2.iloc[:, 0:127]\n",
    "\n",
    "# check dimensions\n",
    "y_valid = validSet1.iloc[:, 127].values\n",
    "XAuxValid = validSet1.iloc[:, 0:127]\n",
    "\n",
    "# Feature Scaling\n",
    "from sklearn.preprocessing import StandardScaler\n",
    "\n",
    "ss = StandardScaler()\n",
    "XAuxTrain1, XAuxValid1 = XAuxTrain.align(XAuxValid, join = 'outer', axis = 1, fill_value = 0)\n",
    "\n",
    "XAuxTrain_Sc = pd.DataFrame(ss.fit_transform(XAuxTrain1),columns = XAuxTrain1.columns)\n",
    "XAuxValid_Sc = pd.DataFrame(ss.transform(XAuxValid1),columns = XAuxValid1.columns)"
   ]
  },
  {
   "cell_type": "code",
   "execution_count": 269,
   "metadata": {},
   "outputs": [],
   "source": [
    "X_train = deepcopy(XAuxTrain_Sc)"
   ]
  },
  {
   "cell_type": "code",
   "execution_count": 270,
   "metadata": {},
   "outputs": [],
   "source": [
    "X_valid = deepcopy(XAuxValid_Sc)"
   ]
  },
  {
   "cell_type": "code",
   "execution_count": 271,
   "metadata": {},
   "outputs": [],
   "source": [
    "X_train1, X_valid1 = X_train.align(X_valid, join = 'outer', axis = 1, fill_value = 0)"
   ]
  },
  {
   "cell_type": "code",
   "execution_count": 272,
   "metadata": {},
   "outputs": [],
   "source": [
    "# Save the values\n",
    "X_train2 = deepcopy(X_train1)\n",
    "X_valid2 = deepcopy(X_valid1)"
   ]
  },
  {
   "cell_type": "code",
   "execution_count": 273,
   "metadata": {
    "collapsed": true
   },
   "outputs": [
    {
     "name": "stdout",
     "output_type": "stream",
     "text": [
      "    Specs      Score\n",
      "6    avf7  38.646457\n",
      "32  avf33  33.176945\n",
      "5    avf6  31.645255\n",
      "77  avf78  30.259596\n",
      "52  avf53  30.218690\n",
      "2    avf3  29.632619\n",
      "82  avf83  27.196010\n",
      "4    avf5  26.189013\n",
      "25  avf26  25.804035\n",
      "55  avf56  25.779550\n",
      "27  avf28  23.653769\n",
      "35  avf36  22.801135\n",
      "9   avf10  21.851837\n",
      "28  avf29  21.549177\n",
      "36  avf37  20.892896\n",
      "33  avf34  19.391341\n",
      "12  avf13  18.649122\n",
      "37  avf38  17.941044\n",
      "14  avf15  17.106703\n",
      "26  avf27  16.828212\n"
     ]
    },
    {
     "name": "stderr",
     "output_type": "stream",
     "text": [
      "C:\\Users\\diego\\Anaconda3\\lib\\site-packages\\sklearn\\feature_selection\\_univariate_selection.py:114: UserWarning: Features [ 30  31 103] are constant.\n",
      "  UserWarning)\n",
      "C:\\Users\\diego\\Anaconda3\\lib\\site-packages\\sklearn\\feature_selection\\_univariate_selection.py:115: RuntimeWarning: invalid value encountered in true_divide\n",
      "  f = msb / msw\n"
     ]
    }
   ],
   "source": [
    "#anova test\n",
    "import pandas as pd\n",
    "import numpy as np\n",
    "from sklearn.feature_selection import SelectKBest\n",
    "from sklearn.feature_selection import f_classif\n",
    "\n",
    "#apply SelectKBest class to extract top 10 best features\n",
    "bestfeatures = SelectKBest(score_func = f_classif, k = 127)\n",
    "fit = bestfeatures.fit(X_train2, y_train)\n",
    "dfscores = pd.DataFrame(fit.scores_)\n",
    "dfcolumns = pd.DataFrame(X_train2.columns)\n",
    "\n",
    "#concat two dataframes for better visualization \n",
    "featureScores = pd.concat([dfcolumns,dfscores],axis=1)\n",
    "featureScores.columns = ['Specs', 'Score']  #naming the dataframe columns\n",
    "print(featureScores.nlargest(20, 'Score'))  #print 20 best features"
   ]
  },
  {
   "cell_type": "markdown",
   "metadata": {},
   "source": [
    "6.2 - Learning Curve (Audio/Visual features only)"
   ]
  },
  {
   "cell_type": "code",
   "execution_count": 274,
   "metadata": {},
   "outputs": [],
   "source": [
    "bestFeatures = featureScores.nlargest(127,'Score')\n",
    "X_train3 = X_train2[bestFeatures['Specs']]\n",
    "X_valid3 = X_valid2[bestFeatures['Specs']]"
   ]
  },
  {
   "cell_type": "code",
   "execution_count": 219,
   "metadata": {},
   "outputs": [
    {
     "data": {
      "image/png": "[encoded data removed]",
      "text/plain": [
       "<Figure size 432x288 with 1 Axes>"
      ]
     },
     "metadata": {
      "needs_background": "light"
     },
     "output_type": "display_data"
    }
   ],
   "source": [
    "%matplotlib inline\n",
    "from sklearn.model_selection import learning_curve\n",
    "import matplotlib.pyplot as plt\n",
    "from sklearn.model_selection import StratifiedKFold\n",
    "from sklearn.model_selection import train_test_split\n",
    "import numpy as np\n",
    "\n",
    "c = LogisticRegression(multi_class = 'multinomial', max_iter = 100000, solver = 'newton-cg')\n",
    "train_sizes4, train_scores4, valid_scores4= \\\n",
    "        learning_curve(c, X_train3, y_train, scoring='accuracy',cv=StratifiedKFold(10),\n",
    "                       train_sizes=np.linspace(.1, 1.0, 5))\n",
    "plt.figure()\n",
    "plt.xlabel(\"training size\")\n",
    "plt.ylabel(\"accuracy\")\n",
    "plt.plot(train_sizes4,  np.mean(train_scores4, axis=1), 'o-', color=\"r\",\n",
    "                 label=\"Training score\")\n",
    "plt.plot(train_sizes4,  np.mean(valid_scores4, axis=1), 'o-', color=\"g\",\n",
    "                 label=\"Cross-validation score\")\n",
    "plt.legend(loc=\"best\")\n",
    "plt.show()"
   ]
  },
  {
   "cell_type": "code",
   "execution_count": 220,
   "metadata": {},
   "outputs": [
    {
     "data": {
      "text/plain": [
       "array([[0.85774947, 0.81104034, 0.81316348, 0.81316348, 0.81316348,\n",
       "        0.81316348, 0.81316348, 0.81316348, 0.81316348, 0.81316348],\n",
       "       [0.47485304, 0.45395167, 0.45264533, 0.43435663, 0.43566297,\n",
       "        0.4350098 , 0.4350098 , 0.4350098 , 0.4350098 , 0.4350098 ],\n",
       "       [0.35725309, 0.3753858 , 0.37770062, 0.36496914, 0.35300926,\n",
       "        0.37692901, 0.36574074, 0.36496914, 0.36496914, 0.36496914],\n",
       "       [0.34200438, 0.3458379 , 0.34090909, 0.33680175, 0.33351588,\n",
       "        0.34337349, 0.34118291, 0.33214677, 0.33543264, 0.33543264],\n",
       "       [0.33121154, 0.32781668, 0.32527053, 0.32336092, 0.31996605,\n",
       "        0.32993847, 0.32123913, 0.3235731 , 0.32420963, 0.33015065]])"
      ]
     },
     "execution_count": 220,
     "metadata": {},
     "output_type": "execute_result"
    }
   ],
   "source": [
    "train_scores4"
   ]
  },
  {
   "cell_type": "code",
   "execution_count": 243,
   "metadata": {},
   "outputs": [
    {
     "data": {
      "text/plain": [
       "0.32567366857627833"
      ]
     },
     "execution_count": 243,
     "metadata": {},
     "output_type": "execute_result"
    }
   ],
   "source": [
    "train_scores4[4].mean()"
   ]
  },
  {
   "cell_type": "code",
   "execution_count": 222,
   "metadata": {},
   "outputs": [
    {
     "data": {
      "text/plain": [
       "array([[0.14312977, 0.16984733, 0.15076336, 0.14122137, 0.17938931,\n",
       "        0.15839695, 0.15076336, 0.14531549, 0.1873805 , 0.15678776],\n",
       "       [0.15648855, 0.20038168, 0.18320611, 0.18129771, 0.18129771,\n",
       "        0.17938931, 0.17748092, 0.18546845, 0.17208413, 0.1873805 ],\n",
       "       [0.19083969, 0.20801527, 0.18129771, 0.21374046, 0.20992366,\n",
       "        0.20038168, 0.1870229 , 0.20458891, 0.21032505, 0.19694073],\n",
       "       [0.19465649, 0.20610687, 0.20801527, 0.20801527, 0.21374046,\n",
       "        0.21755725, 0.21755725, 0.21223709, 0.2332696 , 0.21032505],\n",
       "       [0.20610687, 0.21183206, 0.21183206, 0.23473282, 0.22137405,\n",
       "        0.21374046, 0.22519084, 0.24474187, 0.24282983, 0.23518164]])"
      ]
     },
     "execution_count": 222,
     "metadata": {},
     "output_type": "execute_result"
    }
   ],
   "source": [
    "valid_scores4"
   ]
  },
  {
   "cell_type": "code",
   "execution_count": 244,
   "metadata": {},
   "outputs": [
    {
     "data": {
      "text/plain": [
       "0.22475625063856497"
      ]
     },
     "execution_count": 244,
     "metadata": {},
     "output_type": "execute_result"
    }
   ],
   "source": [
    "valid_scores4[4].mean()"
   ]
  },
  {
   "cell_type": "markdown",
   "metadata": {},
   "source": [
    "6.3 - Validation (Audio/Visual features only)"
   ]
  },
  {
   "cell_type": "code",
   "execution_count": 275,
   "metadata": {},
   "outputs": [
    {
     "name": "stdout",
     "output_type": "stream",
     "text": [
      "              precision    recall  f1-score   support\n",
      "\n",
      "      Action     0.0000    0.0000    0.0000         6\n",
      "   Adventure     0.0000    0.0000    0.0000         2\n",
      "   Animation     0.5000    0.6667    0.5714         3\n",
      "    Children     0.0000    0.0000    0.0000         3\n",
      "      Comedy     0.3846    0.5263    0.4444        38\n",
      "       Crime     0.0000    0.0000    0.0000         5\n",
      " Documentary     0.5217    0.6667    0.5854        18\n",
      "       Drama     0.3023    0.3023    0.3023        43\n",
      "     Fantasy     0.3333    0.2222    0.2667        18\n",
      "   Film_Noir     0.0000    0.0000    0.0000         4\n",
      "      Horror     0.2727    0.3750    0.3158         8\n",
      "     Musical     0.2857    0.2000    0.2353        10\n",
      "     Mystery     0.0000    0.0000    0.0000        18\n",
      "     Romance     0.3171    0.2549    0.2826        51\n",
      "      Sci_Fi     0.1818    0.2500    0.2105        16\n",
      "    Thriller     0.2712    0.5714    0.3678        28\n",
      "         War     0.2000    0.0952    0.1290        21\n",
      "     Western     0.0000    0.0000    0.0000         7\n",
      "\n",
      "    accuracy                         0.3043       299\n",
      "   macro avg     0.1984    0.2295    0.2062       299\n",
      "weighted avg     0.2690    0.3043    0.2763       299\n",
      "\n"
     ]
    },
    {
     "name": "stderr",
     "output_type": "stream",
     "text": [
      "C:\\Users\\diego\\Anaconda3\\lib\\site-packages\\sklearn\\metrics\\_classification.py:1272: UndefinedMetricWarning: Precision and F-score are ill-defined and being set to 0.0 in labels with no predicted samples. Use `zero_division` parameter to control this behavior.\n",
      "  _warn_prf(average, modifier, msg_start, len(result))\n"
     ]
    }
   ],
   "source": [
    "from sklearn.linear_model import LogisticRegression\n",
    "from sklearn import metrics\n",
    "\n",
    "c = LogisticRegression(multi_class = 'multinomial', max_iter = 100000, solver = 'newton-cg') # class_weight = 'balanced', solver = 'newton-cg'\n",
    "c.fit(X_train3, y_train)\n",
    "y_pred = c.predict(X_valid3)\n",
    "\n",
    "print(metrics.classification_report(y_valid, y_pred, digits=4))"
   ]
  }
 ],
 "metadata": {
  "kernelspec": {
   "display_name": "Python 3",
   "language": "python",
   "name": "python3"
  },
  "language_info": {
   "codemirror_mode": {
    "name": "ipython",
    "version": 3
   },
   "file_extension": ".py",
   "mimetype": "text/x-python",
   "name": "python",
   "nbconvert_exporter": "python",
   "pygments_lexer": "ipython3",
   "version": "3.7.3"
  }
 },
 "nbformat": 4,
 "nbformat_minor": 2
}
